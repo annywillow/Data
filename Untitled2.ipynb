{
  "nbformat": 4,
  "nbformat_minor": 0,
  "metadata": {
    "colab": {
      "provenance": [],
      "authorship_tag": "ABX9TyOT6mdXf5Nmt+rKAQaLt1Du",
      "include_colab_link": true
    },
    "kernelspec": {
      "name": "python3",
      "display_name": "Python 3"
    },
    "language_info": {
      "name": "python"
    }
  },
  "cells": [
    {
      "cell_type": "markdown",
      "metadata": {
        "id": "view-in-github",
        "colab_type": "text"
      },
      "source": [
        "<a href=\"https://colab.research.google.com/github/annywillow/flo/blob/main/Untitled2.ipynb\" target=\"_parent\"><img src=\"https://colab.research.google.com/assets/colab-badge.svg\" alt=\"Open In Colab\"/></a>"
      ]
    },
    {
      "cell_type": "code",
      "execution_count": 8,
      "metadata": {
        "colab": {
          "base_uri": "https://localhost:8080/"
        },
        "id": "qpfeUzVGDznh",
        "outputId": "159a55cd-c53a-463b-85d5-9f04f58e4996"
      },
      "outputs": [
        {
          "output_type": "stream",
          "name": "stdout",
          "text": [
            "<class 'pandas.core.frame.DataFrame'>\n",
            "RangeIndex: 10 entries, 0 to 9\n",
            "Data columns (total 5 columns):\n",
            " #   Column  Non-Null Count  Dtype  \n",
            "---  ------  --------------  -----  \n",
            " 0   BL      10 non-null     float64\n",
            " 1   BAS     10 non-null     float64\n",
            " 2   BAW     10 non-null     float64\n",
            " 3   PQ      10 non-null     float64\n",
            " 4   OBE     10 non-null     float64\n",
            "dtypes: float64(5)\n",
            "memory usage: 528.0 bytes\n",
            "10 \n",
            "\n",
            "(10, 5) \n",
            "\n",
            "RangeIndex(start=0, stop=10, step=1) \n",
            "\n",
            "Index(['BL', 'BAS', 'BAW', 'PQ', 'OBE'], dtype='object') \n",
            "\n",
            "<class 'pandas.core.frame.DataFrame'>\n",
            "RangeIndex: 10 entries, 0 to 9\n",
            "Data columns (total 5 columns):\n",
            " #   Column  Non-Null Count  Dtype  \n",
            "---  ------  --------------  -----  \n",
            " 0   BL      10 non-null     float64\n",
            " 1   BAS     10 non-null     float64\n",
            " 2   BAW     10 non-null     float64\n",
            " 3   PQ      10 non-null     float64\n",
            " 4   OBE     10 non-null     float64\n",
            "dtypes: float64(5)\n",
            "memory usage: 528.0 bytes\n",
            "None \n",
            "\n",
            "BL     10\n",
            "BAS    10\n",
            "BAW    10\n",
            "PQ     10\n",
            "OBE    10\n",
            "dtype: int64 \n",
            "\n"
          ]
        }
      ],
      "source": [
        "import pandas as pd\n",
        "\n",
        "data = {'BL': [5.6,5,5.8,3,7,4.6,7,5.6,5,5.8], \n",
        "        'BAS': [6,7,5.25,5.5,6.5,4.75,6,5.5,6.25,7],\n",
        "        'BAW': [4,5,6,2,7,4.25,6,5,5.25,6],\n",
        "        'PQ': [6,7,6,5.25,5.25,6,1,5.25,6,6.25],\n",
        "        'OBE': [6,5,6,5.5,7,6,5,6,7,6.5]}\n",
        "df = pd.DataFrame(data)\n",
        "\n",
        "\n",
        "df.info()\n",
        "\n",
        "print(len(df),\"\\n\")\n",
        "print(df.shape,\"\\n\")\n",
        "print(df.index,\"\\n\")\n",
        "print(df.columns,\"\\n\")\n",
        "print(df.info(),\"\\n\")\n",
        "print(df.count(),\"\\n\")"
      ]
    }
  ]
}