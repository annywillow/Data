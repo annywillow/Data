{
  "nbformat": 4,
  "nbformat_minor": 0,
  "metadata": {
    "colab": {
      "provenance": [],
      "authorship_tag": "ABX9TyOSwY4M0esvhkre37u2VZ7T",
      "include_colab_link": true
    },
    "kernelspec": {
      "name": "python3",
      "display_name": "Python 3"
    },
    "language_info": {
      "name": "python"
    }
  },
  "cells": [
    {
      "cell_type": "markdown",
      "metadata": {
        "id": "view-in-github",
        "colab_type": "text"
      },
      "source": [
        "<a href=\"https://colab.research.google.com/github/annywillow/Data/blob/main/Apache_Spark.ipynb\" target=\"_parent\"><img src=\"https://colab.research.google.com/assets/colab-badge.svg\" alt=\"Open In Colab\"/></a>"
      ]
    },
    {
      "cell_type": "code",
      "execution_count": null,
      "metadata": {
        "colab": {
          "base_uri": "https://localhost:8080/"
        },
        "id": "MgNzQgxD-jLF",
        "outputId": "7b3bf1d5-ff8d-4956-f628-78ef711dd929"
      },
      "outputs": [
        {
          "output_type": "stream",
          "name": "stdout",
          "text": [
            "Collecting pyspark\n",
            "  Downloading pyspark-3.5.0.tar.gz (316.9 MB)\n",
            "\u001b[2K     \u001b[90m━━━━━━━━━━━━━━━━━━━━━━━━━━━━━━━━━━━━━━━━\u001b[0m \u001b[32m316.9/316.9 MB\u001b[0m \u001b[31m2.2 MB/s\u001b[0m eta \u001b[36m0:00:00\u001b[0m\n",
            "\u001b[?25h  Preparing metadata (setup.py) ... \u001b[?25l\u001b[?25hdone\n",
            "Requirement already satisfied: py4j==0.10.9.7 in /usr/local/lib/python3.10/dist-packages (from pyspark) (0.10.9.7)\n",
            "Building wheels for collected packages: pyspark\n",
            "  Building wheel for pyspark (setup.py) ... \u001b[?25l\u001b[?25hdone\n",
            "  Created wheel for pyspark: filename=pyspark-3.5.0-py2.py3-none-any.whl size=317425344 sha256=e3e5f5f0979ab782fab5daaebef3606f5b55cd080e1f2ebed09cdd659f19bcfe\n",
            "  Stored in directory: /root/.cache/pip/wheels/41/4e/10/c2cf2467f71c678cfc8a6b9ac9241e5e44a01940da8fbb17fc\n",
            "Successfully built pyspark\n",
            "Installing collected packages: pyspark\n",
            "Successfully installed pyspark-3.5.0\n"
          ]
        }
      ],
      "source": [
        "pip install pyspark\n"
      ]
    },
    {
      "cell_type": "code",
      "source": [
        "from pyspark.sql import SparkSession"
      ],
      "metadata": {
        "id": "OBIgDvFu-20j"
      },
      "execution_count": null,
      "outputs": []
    },
    {
      "cell_type": "code",
      "source": [
        "from google.colab import drive\n",
        "drive.mount('/content/drive')"
      ],
      "metadata": {
        "colab": {
          "base_uri": "https://localhost:8080/"
        },
        "id": "9Fb__Kqt_-nj",
        "outputId": "d95c490c-ac14-434b-d703-37656e8c9dd7"
      },
      "execution_count": null,
      "outputs": [
        {
          "output_type": "stream",
          "name": "stdout",
          "text": [
            "Mounted at /content/drive\n"
          ]
        }
      ]
    },
    {
      "cell_type": "code",
      "source": [
        "from pyspark.sql import SparkSession\n",
        "from pyspark.sql.functions import expr, col, sum, avg, count, when\n",
        "spark = SparkSession.builder.appName(\"sparkIntro\").getOrCreate"
      ],
      "metadata": {
        "id": "Y2Vi1p-fSbVW"
      },
      "execution_count": 7,
      "outputs": []
    },
    {
      "cell_type": "code",
      "source": [
        "from pyspark.sql import SparkSession\n",
        "from pyspark.sql.functions import expr, col, sum, avg, count, when\n",
        "spark = SparkSession.builder.appName(\"sparkIntro\").getOrCreate()"
      ],
      "metadata": {
        "id": "CUQhyx6UaXKz"
      },
      "execution_count": 13,
      "outputs": []
    },
    {
      "cell_type": "code",
      "source": [
        "stock_df = spark.read.csv('/content/drive/MyDrive/stock_data (1).csv', header= True, inferSchema= True)"
      ],
      "metadata": {
        "id": "XajejUDcax64"
      },
      "execution_count": 16,
      "outputs": []
    },
    {
      "cell_type": "code",
      "source": [
        "stock_df.show(10)"
      ],
      "metadata": {
        "colab": {
          "base_uri": "https://localhost:8080/"
        },
        "id": "z_YBFaZgbyVq",
        "outputId": "1c2e700d-ca46-46fb-ab28-9d031e9d983f"
      },
      "execution_count": 17,
      "outputs": [
        {
          "output_type": "stream",
          "name": "stdout",
          "text": [
            "+----------+--------------------+----------+--------+------+\n",
            "|    Ticker|                Name|    Volume|   Price|Change|\n",
            "+----------+--------------------+----------+--------+------+\n",
            "|  ABBEYBDS|Abbey Mortgage Ba...|   224,580|    1.52| -0.16|\n",
            "|  ABCTRANS|Associated Bus Co...|   370,378|    0.34| -0.02|\n",
            "|   ACADEMY|       Academy Press|     4,760|    1.99|   0.0|\n",
            "|ACCESSCORP| Access Holdings Plc|41,023,827|   14.25|   0.0|\n",
            "| AFRINSURE|African Alliance ...|      NULL|    0.20|  NULL|\n",
            "|  AFRIPRUD|Africa Prudential...| 1,332,872|    6.40|  0.15|\n",
            "| AFROMEDIA|       Afromedia Plc|      NULL|    0.20|  NULL|\n",
            "|     AIICO| Aiico Insurance Plc|19,952,840|    0.74|  0.04|\n",
            "|AIRTELAFRI|   Airtel Africa Plc|    40,441|1,289.00|   0.0|\n",
            "|      ALEX|Aluminium Extrusi...|      NULL|    6.50|  NULL|\n",
            "+----------+--------------------+----------+--------+------+\n",
            "only showing top 10 rows\n",
            "\n"
          ]
        }
      ]
    },
    {
      "cell_type": "code",
      "source": [
        "stock_df.schema"
      ],
      "metadata": {
        "colab": {
          "base_uri": "https://localhost:8080/"
        },
        "id": "nL27v9Neb6-5",
        "outputId": "0165fffc-6e8e-4aec-dca8-e5d6b29624f6"
      },
      "execution_count": 18,
      "outputs": [
        {
          "output_type": "execute_result",
          "data": {
            "text/plain": [
              "StructType([StructField('Ticker', StringType(), True), StructField('Name', StringType(), True), StructField('Volume', StringType(), True), StructField('Price', StringType(), True), StructField('Change', DoubleType(), True)])"
            ]
          },
          "metadata": {},
          "execution_count": 18
        }
      ]
    },
    {
      "cell_type": "code",
      "source": [
        "stock_df.limit(5).show()"
      ],
      "metadata": {
        "colab": {
          "base_uri": "https://localhost:8080/"
        },
        "id": "AtLYFw4ccYQ7",
        "outputId": "38fe7c3a-9fd0-46bd-abf7-87b62214ef8c"
      },
      "execution_count": 22,
      "outputs": [
        {
          "output_type": "stream",
          "name": "stdout",
          "text": [
            "+----------+--------------------+----------+-----+------+\n",
            "|    Ticker|                Name|    Volume|Price|Change|\n",
            "+----------+--------------------+----------+-----+------+\n",
            "|  ABBEYBDS|Abbey Mortgage Ba...|   224,580| 1.52| -0.16|\n",
            "|  ABCTRANS|Associated Bus Co...|   370,378| 0.34| -0.02|\n",
            "|   ACADEMY|       Academy Press|     4,760| 1.99|   0.0|\n",
            "|ACCESSCORP| Access Holdings Plc|41,023,827|14.25|   0.0|\n",
            "| AFRINSURE|African Alliance ...|      NULL| 0.20|  NULL|\n",
            "+----------+--------------------+----------+-----+------+\n",
            "\n"
          ]
        }
      ]
    },
    {
      "cell_type": "code",
      "source": [
        "stock_df.schema"
      ],
      "metadata": {
        "colab": {
          "base_uri": "https://localhost:8080/"
        },
        "id": "DoJkcMIVccld",
        "outputId": "24edc6ef-9f0a-44de-8ff6-bf6ec330249e"
      },
      "execution_count": 23,
      "outputs": [
        {
          "output_type": "execute_result",
          "data": {
            "text/plain": [
              "StructType([StructField('Ticker', StringType(), True), StructField('Name', StringType(), True), StructField('Volume', StringType(), True), StructField('Price', StringType(), True), StructField('Change', DoubleType(), True)])"
            ]
          },
          "metadata": {},
          "execution_count": 23
        }
      ]
    },
    {
      "cell_type": "code",
      "source": [
        "stock_df.printSchema()"
      ],
      "metadata": {
        "colab": {
          "base_uri": "https://localhost:8080/"
        },
        "id": "_6SVArefcgtu",
        "outputId": "1d533325-4d99-4395-ea3b-299784a8f982"
      },
      "execution_count": 24,
      "outputs": [
        {
          "output_type": "stream",
          "name": "stdout",
          "text": [
            "root\n",
            " |-- Ticker: string (nullable = true)\n",
            " |-- Name: string (nullable = true)\n",
            " |-- Volume: string (nullable = true)\n",
            " |-- Price: string (nullable = true)\n",
            " |-- Change: double (nullable = true)\n",
            "\n"
          ]
        }
      ]
    },
    {
      "cell_type": "code",
      "source": [
        "stock_with_few_cols = stock_df.select(['Ticker', 'Volume', 'Price'])\n",
        "stock_with_few_cols.show(5)"
      ],
      "metadata": {
        "colab": {
          "base_uri": "https://localhost:8080/"
        },
        "id": "5GYWIR-xctSw",
        "outputId": "3ac5c7b3-2c31-4ce5-cb32-ba4c7eea49db"
      },
      "execution_count": 25,
      "outputs": [
        {
          "output_type": "stream",
          "name": "stdout",
          "text": [
            "+----------+----------+-----+\n",
            "|    Ticker|    Volume|Price|\n",
            "+----------+----------+-----+\n",
            "|  ABBEYBDS|   224,580| 1.52|\n",
            "|  ABCTRANS|   370,378| 0.34|\n",
            "|   ACADEMY|     4,760| 1.99|\n",
            "|ACCESSCORP|41,023,827|14.25|\n",
            "| AFRINSURE|      NULL| 0.20|\n",
            "+----------+----------+-----+\n",
            "only showing top 5 rows\n",
            "\n"
          ]
        }
      ]
    },
    {
      "cell_type": "code",
      "source": [
        "stock_df.describe().show()"
      ],
      "metadata": {
        "colab": {
          "base_uri": "https://localhost:8080/"
        },
        "id": "sLoqgY6ofNNq",
        "outputId": "4b458c0f-28d5-4ca0-af5a-5a92492ad82f"
      },
      "execution_count": 26,
      "outputs": [
        {
          "output_type": "stream",
          "name": "stdout",
          "text": [
            "+-------+----------+--------------------+------------------+-----------------+--------------------+\n",
            "|summary|    Ticker|                Name|            Volume|            Price|              Change|\n",
            "+-------+----------+--------------------+------------------+-----------------+--------------------+\n",
            "|  count|       156|                 156|               121|              156|                 121|\n",
            "|   mean|  Infinity|                NULL|             250.8|24.71836601307189|-0.03826446280991...|\n",
            "| stddev|      NULL|                NULL|235.66756246883023|70.02011350561236|  0.3294128050687324|\n",
            "|    min|  ABBEYBDS|AXA Mansard Insur...|         1,002,000|             0.20|                -2.0|\n",
            "|    max|ZENITHBANK|     Zenith Bank Plc|           836,301|            86.00|                 1.4|\n",
            "+-------+----------+--------------------+------------------+-----------------+--------------------+\n",
            "\n"
          ]
        }
      ]
    },
    {
      "cell_type": "code",
      "source": [
        "transformed_df = stock_df.withColumn('TaxDeduction', stock_df['Price'] - (stock_df['Price']*0.05))\n",
        "transformed_df.show(3)"
      ],
      "metadata": {
        "colab": {
          "base_uri": "https://localhost:8080/"
        },
        "id": "NfliZFmDfT69",
        "outputId": "5760087d-76e8-4e13-f190-3a2b2c381ca7"
      },
      "execution_count": 27,
      "outputs": [
        {
          "output_type": "stream",
          "name": "stdout",
          "text": [
            "+--------+--------------------+-------+-----+------+------------+\n",
            "|  Ticker|                Name| Volume|Price|Change|TaxDeduction|\n",
            "+--------+--------------------+-------+-----+------+------------+\n",
            "|ABBEYBDS|Abbey Mortgage Ba...|224,580| 1.52| -0.16|       1.444|\n",
            "|ABCTRANS|Associated Bus Co...|370,378| 0.34| -0.02|       0.323|\n",
            "| ACADEMY|       Academy Press|  4,760| 1.99|   0.0|      1.8905|\n",
            "+--------+--------------------+-------+-----+------+------------+\n",
            "only showing top 3 rows\n",
            "\n"
          ]
        }
      ]
    },
    {
      "cell_type": "code",
      "source": [
        "from pyspark.sql.functions import lit"
      ],
      "metadata": {
        "id": "wEyfslHIiCP8"
      },
      "execution_count": 29,
      "outputs": []
    },
    {
      "cell_type": "code",
      "source": [
        "# Create column from a literal value\n",
        "transformed_df.withColumn('Identifier', lit('stock')).show(5)"
      ],
      "metadata": {
        "colab": {
          "base_uri": "https://localhost:8080/"
        },
        "id": "AuwznbgmhsN1",
        "outputId": "5106671a-2ff3-4e18-9b5f-16f92017a444"
      },
      "execution_count": 30,
      "outputs": [
        {
          "output_type": "stream",
          "name": "stdout",
          "text": [
            "+----------+--------------------+----------+-----+------+------------+----------+\n",
            "|    Ticker|                Name|    Volume|Price|Change|TaxDeduction|Identifier|\n",
            "+----------+--------------------+----------+-----+------+------------+----------+\n",
            "|  ABBEYBDS|Abbey Mortgage Ba...|   224,580| 1.52| -0.16|       1.444|     stock|\n",
            "|  ABCTRANS|Associated Bus Co...|   370,378| 0.34| -0.02|       0.323|     stock|\n",
            "|   ACADEMY|       Academy Press|     4,760| 1.99|   0.0|      1.8905|     stock|\n",
            "|ACCESSCORP| Access Holdings Plc|41,023,827|14.25|   0.0|     13.5375|     stock|\n",
            "| AFRINSURE|African Alliance ...|      NULL| 0.20|  NULL|        0.19|     stock|\n",
            "+----------+--------------------+----------+-----+------+------------+----------+\n",
            "only showing top 5 rows\n",
            "\n"
          ]
        }
      ]
    },
    {
      "cell_type": "code",
      "source": [
        "# Creating conditional column using the when expression\n",
        "ranked_stock = stock_df \\\n",
        "    .select(\"Ticker\", \"Name\",\\\n",
        "    when(col(\"Price\") <= 500, \"Poor stock\") \\\n",
        "    .otherwise('High performance stock') \\\n",
        "    .alias(\"StockRanking\")).show()"
      ],
      "metadata": {
        "colab": {
          "base_uri": "https://localhost:8080/"
        },
        "id": "yTg5A_Q6jgJe",
        "outputId": "fcd85459-3f22-43fc-86ff-12b3c634be8c"
      },
      "execution_count": 31,
      "outputs": [
        {
          "output_type": "stream",
          "name": "stdout",
          "text": [
            "+----------+--------------------+--------------------+\n",
            "|    Ticker|                Name|        StockRanking|\n",
            "+----------+--------------------+--------------------+\n",
            "|  ABBEYBDS|Abbey Mortgage Ba...|          Poor stock|\n",
            "|  ABCTRANS|Associated Bus Co...|          Poor stock|\n",
            "|   ACADEMY|       Academy Press|          Poor stock|\n",
            "|ACCESSCORP| Access Holdings Plc|          Poor stock|\n",
            "| AFRINSURE|African Alliance ...|          Poor stock|\n",
            "|  AFRIPRUD|Africa Prudential...|          Poor stock|\n",
            "| AFROMEDIA|       Afromedia Plc|          Poor stock|\n",
            "|     AIICO| Aiico Insurance Plc|          Poor stock|\n",
            "|AIRTELAFRI|   Airtel Africa Plc|High performance ...|\n",
            "|      ALEX|Aluminium Extrusi...|          Poor stock|\n",
            "|    ARBICO|          Arbico Plc|          Poor stock|\n",
            "|    ARDOVA|          Ardova Plc|          Poor stock|\n",
            "|ASOSAVINGS| Aso Savings & Loans|          Poor stock|\n",
            "| AUSTINLAZ|Austin Laz & Company|          Poor stock|\n",
            "|     BAPLC|Briclinks Africa Plc|          Poor stock|\n",
            "|    BERGER|       Berger Paints|          Poor stock|\n",
            "|  BETAGLAS|  Beta Glass Company|          Poor stock|\n",
            "| BUACEMENT|      BUA Cement Plc|          Poor stock|\n",
            "|  BUAFOODS|           BUA Foods|          Poor stock|\n",
            "|   CADBURY|     Cadbury Nigeria|          Poor stock|\n",
            "+----------+--------------------+--------------------+\n",
            "only showing top 20 rows\n",
            "\n"
          ]
        }
      ]
    },
    {
      "cell_type": "code",
      "source": [
        "# Dropping columns of a dataframe\n",
        "transformed_df = transformed_df.drop('Change')\n",
        "transformed_df.show(3)"
      ],
      "metadata": {
        "colab": {
          "base_uri": "https://localhost:8080/"
        },
        "id": "VHwDZs_QjnP2",
        "outputId": "b263affe-e5d1-4c85-8801-9b622a285762"
      },
      "execution_count": 32,
      "outputs": [
        {
          "output_type": "stream",
          "name": "stdout",
          "text": [
            "+--------+--------------------+-------+-----+------------+\n",
            "|  Ticker|                Name| Volume|Price|TaxDeduction|\n",
            "+--------+--------------------+-------+-----+------------+\n",
            "|ABBEYBDS|Abbey Mortgage Ba...|224,580| 1.52|       1.444|\n",
            "|ABCTRANS|Associated Bus Co...|370,378| 0.34|       0.323|\n",
            "| ACADEMY|       Academy Press|  4,760| 1.99|      1.8905|\n",
            "+--------+--------------------+-------+-----+------------+\n",
            "only showing top 3 rows\n",
            "\n"
          ]
        }
      ]
    },
    {
      "cell_type": "code",
      "source": [
        "# Rename a column\n",
        "transformed_df = transformed_df.withColumnRenamed('Volume', 'Stock_volume')\n",
        "transformed_df.show(3)"
      ],
      "metadata": {
        "colab": {
          "base_uri": "https://localhost:8080/"
        },
        "id": "r3piicOej-_9",
        "outputId": "f0dae0c1-d3c9-4a08-80ec-5ee1d7745331"
      },
      "execution_count": 33,
      "outputs": [
        {
          "output_type": "stream",
          "name": "stdout",
          "text": [
            "+--------+--------------------+------------+-----+------------+\n",
            "|  Ticker|                Name|Stock_volume|Price|TaxDeduction|\n",
            "+--------+--------------------+------------+-----+------------+\n",
            "|ABBEYBDS|Abbey Mortgage Ba...|     224,580| 1.52|       1.444|\n",
            "|ABCTRANS|Associated Bus Co...|     370,378| 0.34|       0.323|\n",
            "| ACADEMY|       Academy Press|       4,760| 1.99|      1.8905|\n",
            "+--------+--------------------+------------+-----+------------+\n",
            "only showing top 3 rows\n",
            "\n"
          ]
        }
      ]
    },
    {
      "cell_type": "code",
      "source": [
        "# Rename a column\n",
        "transformed_df = transformed_df.withColumnRenamed('Volume', 'StockVolume')\n",
        "transformed_df.show(3)"
      ],
      "metadata": {
        "colab": {
          "base_uri": "https://localhost:8080/"
        },
        "id": "XtxzCS11lGla",
        "outputId": "fa23bfc0-6772-43cd-fd98-698703c337bc"
      },
      "execution_count": 34,
      "outputs": [
        {
          "output_type": "stream",
          "name": "stdout",
          "text": [
            "+--------+--------------------+------------+-----+------------+\n",
            "|  Ticker|                Name|Stock_volume|Price|TaxDeduction|\n",
            "+--------+--------------------+------------+-----+------------+\n",
            "|ABBEYBDS|Abbey Mortgage Ba...|     224,580| 1.52|       1.444|\n",
            "|ABCTRANS|Associated Bus Co...|     370,378| 0.34|       0.323|\n",
            "| ACADEMY|       Academy Press|       4,760| 1.99|      1.8905|\n",
            "+--------+--------------------+------------+-----+------------+\n",
            "only showing top 3 rows\n",
            "\n"
          ]
        }
      ]
    },
    {
      "cell_type": "code",
      "source": [
        "## Filter dataframe using conditionals\n",
        "filtered_df = stock_df.filter('Price >= 100')\n",
        "filtered_df.show(10)"
      ],
      "metadata": {
        "colab": {
          "base_uri": "https://localhost:8080/"
        },
        "id": "tlMwZp75mkje",
        "outputId": "b8c1d795-a8e5-4b42-c879-c9ffede58b13"
      },
      "execution_count": 35,
      "outputs": [
        {
          "output_type": "stream",
          "name": "stdout",
          "text": [
            "+--------+--------------------+---------+------+------+\n",
            "|  Ticker|                Name|   Volume| Price|Change|\n",
            "+--------+--------------------+---------+------+------+\n",
            "|BUAFOODS|           BUA Foods|  240,781|135.75|   0.0|\n",
            "| DANGCEM|      Dangote Cement|  256,585|284.00|   0.0|\n",
            "|  GEREGU|    Geregu Power Plc|   15,499|312.00|   0.0|\n",
            "|    MTNN|         MTN Nigeria|2,097,876|274.00|   0.0|\n",
            "|    NESF|Nigeria Energy Se...|     NULL|552.20|  NULL|\n",
            "|OKOMUOIL|      Okomu Oil Palm|  338,508|236.40|   0.0|\n",
            "|  PRESCO|          Presco Plc|  245,354|180.00|   0.0|\n",
            "|   TOTAL|       Total Nigeria|  446,267|336.70|   0.0|\n",
            "+--------+--------------------+---------+------+------+\n",
            "\n"
          ]
        }
      ]
    },
    {
      "cell_type": "code",
      "source": [
        "## Filtering with the NOT conditional\n",
        "stock_df.filter(~(stock_df['Price'] >= 100)).show(10)"
      ],
      "metadata": {
        "colab": {
          "base_uri": "https://localhost:8080/"
        },
        "id": "uAQeX3J5mqbY",
        "outputId": "a5d039c9-48a5-4fe0-e1ab-31270d041ed4"
      },
      "execution_count": 36,
      "outputs": [
        {
          "output_type": "stream",
          "name": "stdout",
          "text": [
            "+----------+--------------------+----------+-----+------+\n",
            "|    Ticker|                Name|    Volume|Price|Change|\n",
            "+----------+--------------------+----------+-----+------+\n",
            "|  ABBEYBDS|Abbey Mortgage Ba...|   224,580| 1.52| -0.16|\n",
            "|  ABCTRANS|Associated Bus Co...|   370,378| 0.34| -0.02|\n",
            "|   ACADEMY|       Academy Press|     4,760| 1.99|   0.0|\n",
            "|ACCESSCORP| Access Holdings Plc|41,023,827|14.25|   0.0|\n",
            "| AFRINSURE|African Alliance ...|      NULL| 0.20|  NULL|\n",
            "|  AFRIPRUD|Africa Prudential...| 1,332,872| 6.40|  0.15|\n",
            "| AFROMEDIA|       Afromedia Plc|      NULL| 0.20|  NULL|\n",
            "|     AIICO| Aiico Insurance Plc|19,952,840| 0.74|  0.04|\n",
            "|      ALEX|Aluminium Extrusi...|      NULL| 6.50|  NULL|\n",
            "|    ARBICO|          Arbico Plc|      NULL| 1.03|  NULL|\n",
            "+----------+--------------------+----------+-----+------+\n",
            "only showing top 10 rows\n",
            "\n"
          ]
        }
      ]
    },
    {
      "cell_type": "code",
      "source": [
        "# Filtering using where and a single condition\n",
        "stock_df.where(col(\"Ticker\") == \"AFROMEDIA\").show()"
      ],
      "metadata": {
        "colab": {
          "base_uri": "https://localhost:8080/"
        },
        "id": "b22z-k-jmwNp",
        "outputId": "735e2266-df2c-4996-ab22-e5cf64262ec4"
      },
      "execution_count": 37,
      "outputs": [
        {
          "output_type": "stream",
          "name": "stdout",
          "text": [
            "+---------+-------------+------+-----+------+\n",
            "|   Ticker|         Name|Volume|Price|Change|\n",
            "+---------+-------------+------+-----+------+\n",
            "|AFROMEDIA|Afromedia Plc|  NULL| 0.20|  NULL|\n",
            "+---------+-------------+------+-----+------+\n",
            "\n"
          ]
        }
      ]
    },
    {
      "cell_type": "code",
      "source": [
        "# Filtering using where and multiple condition\n",
        "stock_df.where((col(\"Price\") >= 100) & (col(\"Price\") <= 500)).show()"
      ],
      "metadata": {
        "colab": {
          "base_uri": "https://localhost:8080/"
        },
        "id": "jGo0osz1m1oI",
        "outputId": "985f316e-af7b-4771-d9f7-94a1b5280127"
      },
      "execution_count": 38,
      "outputs": [
        {
          "output_type": "stream",
          "name": "stdout",
          "text": [
            "+--------+----------------+---------+------+------+\n",
            "|  Ticker|            Name|   Volume| Price|Change|\n",
            "+--------+----------------+---------+------+------+\n",
            "|BUAFOODS|       BUA Foods|  240,781|135.75|   0.0|\n",
            "| DANGCEM|  Dangote Cement|  256,585|284.00|   0.0|\n",
            "|  GEREGU|Geregu Power Plc|   15,499|312.00|   0.0|\n",
            "|    MTNN|     MTN Nigeria|2,097,876|274.00|   0.0|\n",
            "|OKOMUOIL|  Okomu Oil Palm|  338,508|236.40|   0.0|\n",
            "|  PRESCO|      Presco Plc|  245,354|180.00|   0.0|\n",
            "|   TOTAL|   Total Nigeria|  446,267|336.70|   0.0|\n",
            "+--------+----------------+---------+------+------+\n",
            "\n"
          ]
        }
      ]
    },
    {
      "cell_type": "code",
      "source": [
        "# Sorting result/records of Dataframe\n",
        "stock_df.orderBy(col('Volume').asc()).show()"
      ],
      "metadata": {
        "colab": {
          "base_uri": "https://localhost:8080/"
        },
        "id": "xoD7Oe_Vm6Ld",
        "outputId": "0eb101d4-02c1-42ac-d9f1-11788413ac7c"
      },
      "execution_count": 39,
      "outputs": [
        {
          "output_type": "stream",
          "name": "stdout",
          "text": [
            "+----------+--------------------+------+------+------+\n",
            "|    Ticker|                Name|Volume| Price|Change|\n",
            "+----------+--------------------+------+------+------+\n",
            "|PREMPAINTS|      Premier Paints|  NULL| 10.00|  NULL|\n",
            "|      NESF|Nigeria Energy Se...|  NULL|552.20|  NULL|\n",
            "|  ENAMELWA|Nigerian Enamelwa...|  NULL| 17.75|  NULL|\n",
            "| AFRINSURE|African Alliance ...|  NULL|  0.20|  NULL|\n",
            "| AFROMEDIA|       Afromedia Plc|  NULL|  0.20|  NULL|\n",
            "|  NIGERINS|Niger Insurance C...|  NULL|  0.20|  NULL|\n",
            "|    ARBICO|          Arbico Plc|  NULL|  1.03|  NULL|\n",
            "|    NOTORE|Notore Chemical I...|  NULL| 62.50|  NULL|\n",
            "| AUSTINLAZ|Austin Laz & Company|  NULL|  2.03|  NULL|\n",
            "|  CAPHOTEL|   Capital Hotel Plc|  NULL|  2.50|  NULL|\n",
            "|    CAPOIL|     Capital Oil Plc|  NULL|  0.20|  NULL|\n",
            "|  EUNISELL|Eunisell Interlin...|  NULL|  2.91|  NULL|\n",
            "| CHELLARAM|      Chellarams Plc|  NULL|  1.33|  NULL|\n",
            "|  GOLDBREW|Golden Guinea Bre...|  NULL|  1.06|  NULL|\n",
            "|    DUNLOP|DN Tyre & Rubber Plc|  NULL|  0.20|  NULL|\n",
            "|GOLDINSURE|  Goldlink Insurance|  NULL|  0.20|  NULL|\n",
            "| MULTITREX|Multi-Trex Integr...|  NULL|  0.36|  NULL|\n",
            "|  INFINITY|Infinity Trust Mo...|  NULL|  1.22|  NULL|\n",
            "|ASOSAVINGS| Aso Savings & Loans|  NULL|  0.50|  NULL|\n",
            "|      JULI|            Juli Plc|  NULL|  0.79|  NULL|\n",
            "+----------+--------------------+------+------+------+\n",
            "only showing top 20 rows\n",
            "\n"
          ]
        }
      ]
    },
    {
      "cell_type": "code",
      "source": [
        "# Checking for distinct count of values in a column\n",
        "stock_df.select('Ticker').distinct().count()"
      ],
      "metadata": {
        "colab": {
          "base_uri": "https://localhost:8080/"
        },
        "id": "pAiyp_m3m6jt",
        "outputId": "7cf5c932-780b-49b1-e48f-54fff498ec7e"
      },
      "execution_count": 40,
      "outputs": [
        {
          "output_type": "execute_result",
          "data": {
            "text/plain": [
              "156"
            ]
          },
          "metadata": {},
          "execution_count": 40
        }
      ]
    }
  ]
}